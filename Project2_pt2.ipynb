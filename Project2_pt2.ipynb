{
  "nbformat": 4,
  "nbformat_minor": 0,
  "metadata": {
    "colab": {
      "name": "Project2_pt2.ipynb",
      "provenance": []
    },
    "kernelspec": {
      "name": "python3",
      "display_name": "Python 3"
    },
    "language_info": {
      "name": "python"
    }
  },
  "cells": [
    {
      "cell_type": "code",
      "execution_count": 8,
      "metadata": {
        "id": "0qjavPmWpiAv"
      },
      "outputs": [],
      "source": [
        "import pandas as pd\n",
        "import numpy as np\n",
        "import seaborn as sns\n",
        "\n",
        "from sklearn.model_selection import train_test_split\n",
        "from sklearn.preprocessing import StandardScaler, OneHotEncoder\n",
        "from sklearn.compose import make_column_selector, make_column_transformer\n",
        "from sklearn.pipeline import make_pipeline\n",
        "from sklearn.model_selection import GridSearchCV, RandomizedSearchCV\n",
        "from sklearn.impute import SimpleImputer\n",
        "from sklearn.tree import plot_tree\n",
        "from sklearn import set_config\n",
        "set_config(display='diagram')\n",
        "\n",
        "#import accuracy, precision, recall, classification report, and confusion matrix scoring functions\n",
        "from sklearn.metrics import accuracy_score, precision_score, recall_score, classification_report, confusion_matrix\n",
        "\n",
        "#Importing the KNN Classifier and RandomForest Classifier\n",
        "from sklearn.neighbors import KNeighborsClassifier\n",
        "from sklearn.ensemble import RandomForestClassifier"
      ]
    },
    {
      "cell_type": "code",
      "source": [
        "path = '/content/drive/MyDrive/CD: Project/nordstrom-test1.csv'\n",
        "data = pd.read_csv(path)\n",
        "data.head()"
      ],
      "metadata": {
        "colab": {
          "base_uri": "https://localhost:8080/",
          "height": 206
        },
        "id": "FcI_yupNpqxm",
        "outputId": "1f594fc2-653f-4d43-9a64-ed138c0cd43c"
      },
      "execution_count": 9,
      "outputs": [
        {
          "output_type": "execute_result",
          "data": {
            "text/plain": [
              "                        PRODUCT_NAME      SKU CATEGORY SUBCATEGORY  \\\n",
              "0       McKay Water Resistant Bootie  4350576    Women       Shoes   \n",
              "1                  Dorothy Flex Pump  4413570    Women       Shoes   \n",
              "2    Classic Femme Mini Wedge Bootie  5324754    Women       Shoes   \n",
              "3             Nizza Platform Sneaker  5507136    Women       Shoes   \n",
              "4  Becker Block Heel Platform Sandal  5527975    Women       Shoes   \n",
              "\n",
              "                  BRAND  PRICE_CURRENT  PRICE_RETAIL  REVIEW_RATING  \\\n",
              "0                  UGG®          75.00         150.0            4.4   \n",
              "1  MICHAEL Michael Kors          86.25         115.0            4.3   \n",
              "2                  UGG®          80.00         160.0            4.6   \n",
              "3                adidas          48.75          65.0            4.7   \n",
              "4  MICHAEL Michael Kors         108.75         145.0            4.5   \n",
              "\n",
              "   REVIEW_COUNT PROMOTION  COLOR              RunDate  \n",
              "0           680   50% off      1  2022-03-13 08:11:45  \n",
              "1           224       NaN      1  2022-03-13 08:11:45  \n",
              "2           431   50% off      1  2022-03-13 08:11:45  \n",
              "3          1001       NaN      1  2022-03-13 08:11:45  \n",
              "4            19       NaN      1  2022-03-13 08:11:45  "
            ],
            "text/html": [
              "\n",
              "  <div id=\"df-cf14eb1c-e288-42fe-8c82-989496ff5b71\">\n",
              "    <div class=\"colab-df-container\">\n",
              "      <div>\n",
              "<style scoped>\n",
              "    .dataframe tbody tr th:only-of-type {\n",
              "        vertical-align: middle;\n",
              "    }\n",
              "\n",
              "    .dataframe tbody tr th {\n",
              "        vertical-align: top;\n",
              "    }\n",
              "\n",
              "    .dataframe thead th {\n",
              "        text-align: right;\n",
              "    }\n",
              "</style>\n",
              "<table border=\"1\" class=\"dataframe\">\n",
              "  <thead>\n",
              "    <tr style=\"text-align: right;\">\n",
              "      <th></th>\n",
              "      <th>PRODUCT_NAME</th>\n",
              "      <th>SKU</th>\n",
              "      <th>CATEGORY</th>\n",
              "      <th>SUBCATEGORY</th>\n",
              "      <th>BRAND</th>\n",
              "      <th>PRICE_CURRENT</th>\n",
              "      <th>PRICE_RETAIL</th>\n",
              "      <th>REVIEW_RATING</th>\n",
              "      <th>REVIEW_COUNT</th>\n",
              "      <th>PROMOTION</th>\n",
              "      <th>COLOR</th>\n",
              "      <th>RunDate</th>\n",
              "    </tr>\n",
              "  </thead>\n",
              "  <tbody>\n",
              "    <tr>\n",
              "      <th>0</th>\n",
              "      <td>McKay Water Resistant Bootie</td>\n",
              "      <td>4350576</td>\n",
              "      <td>Women</td>\n",
              "      <td>Shoes</td>\n",
              "      <td>UGG®</td>\n",
              "      <td>75.00</td>\n",
              "      <td>150.0</td>\n",
              "      <td>4.4</td>\n",
              "      <td>680</td>\n",
              "      <td>50% off</td>\n",
              "      <td>1</td>\n",
              "      <td>2022-03-13 08:11:45</td>\n",
              "    </tr>\n",
              "    <tr>\n",
              "      <th>1</th>\n",
              "      <td>Dorothy Flex Pump</td>\n",
              "      <td>4413570</td>\n",
              "      <td>Women</td>\n",
              "      <td>Shoes</td>\n",
              "      <td>MICHAEL Michael Kors</td>\n",
              "      <td>86.25</td>\n",
              "      <td>115.0</td>\n",
              "      <td>4.3</td>\n",
              "      <td>224</td>\n",
              "      <td>NaN</td>\n",
              "      <td>1</td>\n",
              "      <td>2022-03-13 08:11:45</td>\n",
              "    </tr>\n",
              "    <tr>\n",
              "      <th>2</th>\n",
              "      <td>Classic Femme Mini Wedge Bootie</td>\n",
              "      <td>5324754</td>\n",
              "      <td>Women</td>\n",
              "      <td>Shoes</td>\n",
              "      <td>UGG®</td>\n",
              "      <td>80.00</td>\n",
              "      <td>160.0</td>\n",
              "      <td>4.6</td>\n",
              "      <td>431</td>\n",
              "      <td>50% off</td>\n",
              "      <td>1</td>\n",
              "      <td>2022-03-13 08:11:45</td>\n",
              "    </tr>\n",
              "    <tr>\n",
              "      <th>3</th>\n",
              "      <td>Nizza Platform Sneaker</td>\n",
              "      <td>5507136</td>\n",
              "      <td>Women</td>\n",
              "      <td>Shoes</td>\n",
              "      <td>adidas</td>\n",
              "      <td>48.75</td>\n",
              "      <td>65.0</td>\n",
              "      <td>4.7</td>\n",
              "      <td>1001</td>\n",
              "      <td>NaN</td>\n",
              "      <td>1</td>\n",
              "      <td>2022-03-13 08:11:45</td>\n",
              "    </tr>\n",
              "    <tr>\n",
              "      <th>4</th>\n",
              "      <td>Becker Block Heel Platform Sandal</td>\n",
              "      <td>5527975</td>\n",
              "      <td>Women</td>\n",
              "      <td>Shoes</td>\n",
              "      <td>MICHAEL Michael Kors</td>\n",
              "      <td>108.75</td>\n",
              "      <td>145.0</td>\n",
              "      <td>4.5</td>\n",
              "      <td>19</td>\n",
              "      <td>NaN</td>\n",
              "      <td>1</td>\n",
              "      <td>2022-03-13 08:11:45</td>\n",
              "    </tr>\n",
              "  </tbody>\n",
              "</table>\n",
              "</div>\n",
              "      <button class=\"colab-df-convert\" onclick=\"convertToInteractive('df-cf14eb1c-e288-42fe-8c82-989496ff5b71')\"\n",
              "              title=\"Convert this dataframe to an interactive table.\"\n",
              "              style=\"display:none;\">\n",
              "        \n",
              "  <svg xmlns=\"http://www.w3.org/2000/svg\" height=\"24px\"viewBox=\"0 0 24 24\"\n",
              "       width=\"24px\">\n",
              "    <path d=\"M0 0h24v24H0V0z\" fill=\"none\"/>\n",
              "    <path d=\"M18.56 5.44l.94 2.06.94-2.06 2.06-.94-2.06-.94-.94-2.06-.94 2.06-2.06.94zm-11 1L8.5 8.5l.94-2.06 2.06-.94-2.06-.94L8.5 2.5l-.94 2.06-2.06.94zm10 10l.94 2.06.94-2.06 2.06-.94-2.06-.94-.94-2.06-.94 2.06-2.06.94z\"/><path d=\"M17.41 7.96l-1.37-1.37c-.4-.4-.92-.59-1.43-.59-.52 0-1.04.2-1.43.59L10.3 9.45l-7.72 7.72c-.78.78-.78 2.05 0 2.83L4 21.41c.39.39.9.59 1.41.59.51 0 1.02-.2 1.41-.59l7.78-7.78 2.81-2.81c.8-.78.8-2.07 0-2.86zM5.41 20L4 18.59l7.72-7.72 1.47 1.35L5.41 20z\"/>\n",
              "  </svg>\n",
              "      </button>\n",
              "      \n",
              "  <style>\n",
              "    .colab-df-container {\n",
              "      display:flex;\n",
              "      flex-wrap:wrap;\n",
              "      gap: 12px;\n",
              "    }\n",
              "\n",
              "    .colab-df-convert {\n",
              "      background-color: #E8F0FE;\n",
              "      border: none;\n",
              "      border-radius: 50%;\n",
              "      cursor: pointer;\n",
              "      display: none;\n",
              "      fill: #1967D2;\n",
              "      height: 32px;\n",
              "      padding: 0 0 0 0;\n",
              "      width: 32px;\n",
              "    }\n",
              "\n",
              "    .colab-df-convert:hover {\n",
              "      background-color: #E2EBFA;\n",
              "      box-shadow: 0px 1px 2px rgba(60, 64, 67, 0.3), 0px 1px 3px 1px rgba(60, 64, 67, 0.15);\n",
              "      fill: #174EA6;\n",
              "    }\n",
              "\n",
              "    [theme=dark] .colab-df-convert {\n",
              "      background-color: #3B4455;\n",
              "      fill: #D2E3FC;\n",
              "    }\n",
              "\n",
              "    [theme=dark] .colab-df-convert:hover {\n",
              "      background-color: #434B5C;\n",
              "      box-shadow: 0px 1px 3px 1px rgba(0, 0, 0, 0.15);\n",
              "      filter: drop-shadow(0px 1px 2px rgba(0, 0, 0, 0.3));\n",
              "      fill: #FFFFFF;\n",
              "    }\n",
              "  </style>\n",
              "\n",
              "      <script>\n",
              "        const buttonEl =\n",
              "          document.querySelector('#df-cf14eb1c-e288-42fe-8c82-989496ff5b71 button.colab-df-convert');\n",
              "        buttonEl.style.display =\n",
              "          google.colab.kernel.accessAllowed ? 'block' : 'none';\n",
              "\n",
              "        async function convertToInteractive(key) {\n",
              "          const element = document.querySelector('#df-cf14eb1c-e288-42fe-8c82-989496ff5b71');\n",
              "          const dataTable =\n",
              "            await google.colab.kernel.invokeFunction('convertToInteractive',\n",
              "                                                     [key], {});\n",
              "          if (!dataTable) return;\n",
              "\n",
              "          const docLinkHtml = 'Like what you see? Visit the ' +\n",
              "            '<a target=\"_blank\" href=https://colab.research.google.com/notebooks/data_table.ipynb>data table notebook</a>'\n",
              "            + ' to learn more about interactive tables.';\n",
              "          element.innerHTML = '';\n",
              "          dataTable['output_type'] = 'display_data';\n",
              "          await google.colab.output.renderOutput(dataTable, element);\n",
              "          const docLink = document.createElement('div');\n",
              "          docLink.innerHTML = docLinkHtml;\n",
              "          element.appendChild(docLink);\n",
              "        }\n",
              "      </script>\n",
              "    </div>\n",
              "  </div>\n",
              "  "
            ]
          },
          "metadata": {},
          "execution_count": 9
        }
      ]
    },
    {
      "cell_type": "markdown",
      "source": [
        "I did not notice any unnecessary coulumns in the dataset. Since the target is product_name. However, with this dataset I don't believe I can perform onehotencode or ordinal encode. "
      ],
      "metadata": {
        "id": "_UNwHUOnr_m_"
      }
    },
    {
      "cell_type": "code",
      "source": [
        "data.duplicated().sum()"
      ],
      "metadata": {
        "colab": {
          "base_uri": "https://localhost:8080/"
        },
        "id": "O7cwq33fp5P-",
        "outputId": "4ca8ba93-0339-41bd-f4e6-49487391ccd4"
      },
      "execution_count": 10,
      "outputs": [
        {
          "output_type": "execute_result",
          "data": {
            "text/plain": [
              "2"
            ]
          },
          "metadata": {},
          "execution_count": 10
        }
      ]
    },
    {
      "cell_type": "code",
      "source": [
        "data = data.drop_duplicates() # this is to remove all duplicated data"
      ],
      "metadata": {
        "id": "eXcM72sRqAyP"
      },
      "execution_count": 11,
      "outputs": []
    },
    {
      "cell_type": "code",
      "source": [
        "data.isna().sum() # there are missing values in promotion"
      ],
      "metadata": {
        "colab": {
          "base_uri": "https://localhost:8080/"
        },
        "id": "hQSb9c5GqD_m",
        "outputId": "640b6781-c0cd-4d25-b2fa-c7a7a1979269"
      },
      "execution_count": 12,
      "outputs": [
        {
          "output_type": "execute_result",
          "data": {
            "text/plain": [
              "PRODUCT_NAME      0\n",
              "SKU               0\n",
              "CATEGORY          0\n",
              "SUBCATEGORY       0\n",
              "BRAND             0\n",
              "PRICE_CURRENT     0\n",
              "PRICE_RETAIL      0\n",
              "REVIEW_RATING     0\n",
              "REVIEW_COUNT      0\n",
              "PROMOTION        21\n",
              "COLOR             0\n",
              "RunDate           0\n",
              "dtype: int64"
            ]
          },
          "metadata": {},
          "execution_count": 12
        }
      ]
    },
    {
      "cell_type": "markdown",
      "source": [
        "The only column that had missing value is PROMOTION. We will impute them by using the most_freq based on the most frequent promotion that occurs in Nordstrom "
      ],
      "metadata": {
        "id": "uQa24LzCrb4f"
      }
    },
    {
      "cell_type": "code",
      "source": [
        "for col in data: # this is to loop through the data to check for inconsistancy, NaN values\n",
        "  print(f'-{col}:')\n",
        "  print(data[col].unique())\n",
        "  print(\"\\n\\n\")"
      ],
      "metadata": {
        "colab": {
          "base_uri": "https://localhost:8080/"
        },
        "id": "0Lpg2FrnqHe5",
        "outputId": "e22f0658-8bd4-49c5-afe3-bcdb28f60c41"
      },
      "execution_count": 13,
      "outputs": [
        {
          "output_type": "stream",
          "name": "stdout",
          "text": [
            "-PRODUCT_NAME:\n",
            "['McKay Water Resistant Bootie' 'Dorothy Flex Pump'\n",
            " 'Classic Femme Mini Wedge Bootie' 'Nizza Platform Sneaker'\n",
            " 'Becker Block Heel Platform Sandal' 'Low Key Slide Sandal'\n",
            " 'PureBoost 21 Primegreen Running Shoe' 'Odessa Crystal Block Heel Sandal'\n",
            " 'Tule Block Heel Sandal' 'Jessin Ankle Wrap Sandal' 'Bay Slide Sandal'\n",
            " 'Kora 2 Lug Chelsea Boot' 'Tianna Lug Chelsea Boot'\n",
            " 'Dagger Waterproof Boot' 'Kamren Ankle Strap Pump'\n",
            " 'Brielle Water Resistant Bootie' 'Adilette Lite Slide Sandal'\n",
            " 'Isabelle Over the Knee Boot' 'Classy Penny Loafer' 'Kenley Sandal'\n",
            " 'Sarendie Sandal' 'Genuine Shearling Lined Slipper'\n",
            " 'Tory Charm Mammoth Geniune Shearling Mule' 'Isla Platform Sandal'\n",
            " 'Vivy Pointed Toe Boot' 'Karala Pointed Toe Pump'\n",
            " 'Josley Pointed Toe Pump' 'Fluffette Slipper'\n",
            " 'Super Fluff Genuine Shearling Slingback Slipper'\n",
            " 'Richie Espadrille Slingback Sandal' 'Serena Strappy Sandal'\n",
            " 'UltraBoost 21 Running Shoe' 'Loren Pointed Toe Bootie'\n",
            " 'Miller Cloud Sandal' 'Amory Ankle Strap Pump' 'Kempern Mule'\n",
            " 'Sentry WC High Top Sneaker' 'Leta Slip-On Sneaker'\n",
            " 'Flowt LX Strappy Sandal' 'Student Platform Loafer'\n",
            " 'Air Zoom SuperRep 2 Training Shoe' 'Kimberly Sandal'\n",
            " 'Aileen Slip-On Sneaker' 'Calista Bootie' 'Leap Slingback Sandal'\n",
            " 'Edge Lux Running Shoe' 'Setenda Pump' 'Devin Waterproof Bootie'\n",
            " 'Faya Slip-On Sneaker' 'Daisie Sandal' 'Monique Sneaker'\n",
            " 'Uplift Lace-Up Sandal' 'Dexter Embellished Platform Boot'\n",
            " 'Twist Slide Sandal' 'Vibing Faux Leather Sandal'\n",
            " 'Jalina Ankle Strap Sandal' 'Starling Disco Ball Glitter Flat'\n",
            " 'Keke Ankle Strap Pump' 'Omilira Embellished Ankle Strap Sandal'\n",
            " 'Eleana Sandal' 'Clara Sandal' 'Sidney Espadrille Wedge Slide Sandal'\n",
            " 'Keke Cap Toe Pump' 'Venom Pointed Toe Mule' 'Zana Pointed Toe Pump'\n",
            " 'Swift Run X Sneaker' 'Vicky Espadrille Flat'\n",
            " 'Adilette Sport Slide Sandal' 'Viktory Over the Knee Boot'\n",
            " 'Lace-up Fashion Sneaker' 'Ojai Crystal Ankle Strap Sandal'\n",
            " 'Hallie Bootie' 'Reanna Slide Sandal' 'Jailene Ankle Strap Pump'\n",
            " 'Aslee Sandal' 'Classic Lined Clog' 'Classic Glitter Lined Clog'\n",
            " 'Scuffette II Slipper' 'UGG Classic Mini II Genuine Shearling Lined Boot'\n",
            " 'Roellan Ankle Strap Sandal' 'Renneya Block Heel Sandal'\n",
            " 'Enella Embellished Ankle Strap Sandal'\n",
            " 'HOVR™ Sonic 4 Connected Running Shoe'\n",
            " 'Air Zoom Terra Kiger 7 Trail Running Shoe' 'Paily Slide Sandal'\n",
            " 'Ezel Embellished Two Strap Slide Sandal'\n",
            " 'Diamond Weave Saltwater Bootie' 'Lawson Open Toe Bootie'\n",
            " 'Crest Vibe Serpent Platform Sneaker' 'Lettie Sneaker'\n",
            " 'Lydell Mixed Media Combat Boot' 'Zoel Sneaker' 'Casidy Wedge Sandal'\n",
            " 'Nizza Trefoil Sneaker' 'Flip Flop']\n",
            "\n",
            "\n",
            "\n",
            "-SKU:\n",
            "[4350576 4413570 5324754 5507136 5527975 5605038 5816757 5839795 5873360\n",
            " 5880652 5890589 5892466 5928733 5950190 5953677 5978463 6089988 6265219\n",
            " 6401728 6417709 6478849 6497762 6545723 6580283 6582989 6583876 6594779\n",
            " 6671284 6690210 6691274 6691923 6735902 6792719 6800822 6815134 6818838\n",
            " 6818964 6822972 5003322 5607797 5613623 5676387 5754674 5782425 5910974\n",
            " 5964937 6089983 6118072 6151473 6401136 6407089 6415713 6486901 6489677\n",
            " 6493125 6493235 6505339 6506099 6528894 6560575 6573383 6580269 6580271\n",
            " 6580279 6580711 6582974 6612681 6638962 6689270 6691160 6691275 6713765\n",
            " 6715168 6768192 6777314 6799844 6800012 6800096 6800969 6800987 6801627\n",
            " 6819284 6820567 6820597 6822669 6822978 6823026 6834566 6835172 4927403\n",
            " 5562787 5588922 5611533 5680375 5682816 5738943 5749168 5848100]\n",
            "\n",
            "\n",
            "\n",
            "-CATEGORY:\n",
            "['Women']\n",
            "\n",
            "\n",
            "\n",
            "-SUBCATEGORY:\n",
            "['Shoes']\n",
            "\n",
            "\n",
            "\n",
            "-BRAND:\n",
            "['UGG®' 'MICHAEL Michael Kors' 'adidas' 'Seychelles'\n",
            " 'Jewel Badgley Mischka' 'Steve Madden' 'Jessica Simpson' 'Børn' 'BP.'\n",
            " 'Blondo' 'Louise et Cie' 'Caslon®' 'Cole Haan' \"Dr. Scholl's\"\n",
            " 'Vince Camuto' 'Tory Burch' 'Marc Fisher LTD' 'Vans' 'ECCO'\n",
            " 'Jeffrey Campbell' 'Nike' 'Naturalizer' 'Kork-Ease®' 'Sam Edelman'\n",
            " 'AZALEA WANG' 'Birdies' 'CROCS™' 'Under Armour' 'Dolce Vita' 'Sperry'\n",
            " 'Kurt Geiger London' 'Söfft']\n",
            "\n",
            "\n",
            "\n",
            "-PRICE_CURRENT:\n",
            "[ 75.    86.25  80.    48.75 108.75  49.97  97.5   71.4   69.99  53.4\n",
            "  39.97  39.98  55.96  99.99  59.96  22.5  120.    77.96  66.57 111.2\n",
            " 139.2  116.25  89.96  59.4   99.    34.97  59.99  74.25 135.    47.99\n",
            " 152.76  65.96  50.96  89.95  99.95 127.46  90.    79.99  94.98  49.99\n",
            "  63.75  83.96  71.96  35.    89.99  95.    72.    93.75 112.5   16.87\n",
            "  49.96  43.6   89.9   39.99  43.54  59.37  82.5  105.    60.   131.25\n",
            "  48.97 108.   125.96  81.    33.75]\n",
            "\n",
            "\n",
            "\n",
            "-PRICE_RETAIL:\n",
            "[150.   115.   160.    65.   145.    99.   130.   119.    99.95  88.95\n",
            "  60.    69.95  30.   300.   100.   129.95 110.95 278.   348.   155.\n",
            " 149.95 165.    89.95 120.   180.    59.95 228.   109.95  84.95 139.95\n",
            " 169.95  98.95 194.95 135.    85.   140.   119.95  89.9  125.    33.75\n",
            " 109.    59.99  64.99 110.   175.   179.95  45.  ]\n",
            "\n",
            "\n",
            "\n",
            "-REVIEW_RATING:\n",
            "[4.4 4.3 4.6 4.7 4.5 3.3 3.7 2.7 3.8 4.8 4.  2.8 2.2 5.  0.  4.2 2.6 2.5\n",
            " 3.5 3.6 4.1 3.  2.3 3.2 3.4 3.9]\n",
            "\n",
            "\n",
            "\n",
            "-REVIEW_COUNT:\n",
            "[ 680  224  431 1001   19   26   97    3   10   13   25    5  118   20\n",
            "   23  486   15    7    0  521   67    2    1 1152   17  467   35   29\n",
            "  144   48    4   33  851  355   39    9   50   12  936  555   80  145\n",
            "  658   18   96  166]\n",
            "\n",
            "\n",
            "\n",
            "-PROMOTION:\n",
            "['50% off' nan '49% off' '25% off' '40% off' '29% off' '39% off' '33% off'\n",
            " '60% off' '20% off' '30% off' '61% off' '19% off' '21% off' '51% off'\n",
            " '62% off' '37% off' '32% off' '42% off']\n",
            "\n",
            "\n",
            "\n",
            "-COLOR:\n",
            "[  1  43 710 261 100   5 200 700 900 255 670 620   2 250 235 201 300   3\n",
            " 535 233  50   6  20 650  15 150 689 857 613 418 640 671 215 699  60 230\n",
            " 270 602 663  40 110]\n",
            "\n",
            "\n",
            "\n",
            "-RunDate:\n",
            "['2022-03-13 08:11:45']\n",
            "\n",
            "\n",
            "\n"
          ]
        }
      ]
    },
    {
      "cell_type": "markdown",
      "source": [
        "I did not find inconsistent data within this sales dataset "
      ],
      "metadata": {
        "id": "xO95RfrBrwlj"
      }
    },
    {
      "cell_type": "code",
      "source": [
        "data.head()"
      ],
      "metadata": {
        "colab": {
          "base_uri": "https://localhost:8080/",
          "height": 206
        },
        "id": "ius7dgRzrRLG",
        "outputId": "54b1cf9f-c11f-4cdf-a3b8-1fe987edb595"
      },
      "execution_count": 14,
      "outputs": [
        {
          "output_type": "execute_result",
          "data": {
            "text/plain": [
              "                        PRODUCT_NAME      SKU CATEGORY SUBCATEGORY  \\\n",
              "0       McKay Water Resistant Bootie  4350576    Women       Shoes   \n",
              "1                  Dorothy Flex Pump  4413570    Women       Shoes   \n",
              "2    Classic Femme Mini Wedge Bootie  5324754    Women       Shoes   \n",
              "3             Nizza Platform Sneaker  5507136    Women       Shoes   \n",
              "4  Becker Block Heel Platform Sandal  5527975    Women       Shoes   \n",
              "\n",
              "                  BRAND  PRICE_CURRENT  PRICE_RETAIL  REVIEW_RATING  \\\n",
              "0                  UGG®          75.00         150.0            4.4   \n",
              "1  MICHAEL Michael Kors          86.25         115.0            4.3   \n",
              "2                  UGG®          80.00         160.0            4.6   \n",
              "3                adidas          48.75          65.0            4.7   \n",
              "4  MICHAEL Michael Kors         108.75         145.0            4.5   \n",
              "\n",
              "   REVIEW_COUNT PROMOTION  COLOR              RunDate  \n",
              "0           680   50% off      1  2022-03-13 08:11:45  \n",
              "1           224       NaN      1  2022-03-13 08:11:45  \n",
              "2           431   50% off      1  2022-03-13 08:11:45  \n",
              "3          1001       NaN      1  2022-03-13 08:11:45  \n",
              "4            19       NaN      1  2022-03-13 08:11:45  "
            ],
            "text/html": [
              "\n",
              "  <div id=\"df-12fa85c2-7f5b-4a72-ab5a-4766e3174693\">\n",
              "    <div class=\"colab-df-container\">\n",
              "      <div>\n",
              "<style scoped>\n",
              "    .dataframe tbody tr th:only-of-type {\n",
              "        vertical-align: middle;\n",
              "    }\n",
              "\n",
              "    .dataframe tbody tr th {\n",
              "        vertical-align: top;\n",
              "    }\n",
              "\n",
              "    .dataframe thead th {\n",
              "        text-align: right;\n",
              "    }\n",
              "</style>\n",
              "<table border=\"1\" class=\"dataframe\">\n",
              "  <thead>\n",
              "    <tr style=\"text-align: right;\">\n",
              "      <th></th>\n",
              "      <th>PRODUCT_NAME</th>\n",
              "      <th>SKU</th>\n",
              "      <th>CATEGORY</th>\n",
              "      <th>SUBCATEGORY</th>\n",
              "      <th>BRAND</th>\n",
              "      <th>PRICE_CURRENT</th>\n",
              "      <th>PRICE_RETAIL</th>\n",
              "      <th>REVIEW_RATING</th>\n",
              "      <th>REVIEW_COUNT</th>\n",
              "      <th>PROMOTION</th>\n",
              "      <th>COLOR</th>\n",
              "      <th>RunDate</th>\n",
              "    </tr>\n",
              "  </thead>\n",
              "  <tbody>\n",
              "    <tr>\n",
              "      <th>0</th>\n",
              "      <td>McKay Water Resistant Bootie</td>\n",
              "      <td>4350576</td>\n",
              "      <td>Women</td>\n",
              "      <td>Shoes</td>\n",
              "      <td>UGG®</td>\n",
              "      <td>75.00</td>\n",
              "      <td>150.0</td>\n",
              "      <td>4.4</td>\n",
              "      <td>680</td>\n",
              "      <td>50% off</td>\n",
              "      <td>1</td>\n",
              "      <td>2022-03-13 08:11:45</td>\n",
              "    </tr>\n",
              "    <tr>\n",
              "      <th>1</th>\n",
              "      <td>Dorothy Flex Pump</td>\n",
              "      <td>4413570</td>\n",
              "      <td>Women</td>\n",
              "      <td>Shoes</td>\n",
              "      <td>MICHAEL Michael Kors</td>\n",
              "      <td>86.25</td>\n",
              "      <td>115.0</td>\n",
              "      <td>4.3</td>\n",
              "      <td>224</td>\n",
              "      <td>NaN</td>\n",
              "      <td>1</td>\n",
              "      <td>2022-03-13 08:11:45</td>\n",
              "    </tr>\n",
              "    <tr>\n",
              "      <th>2</th>\n",
              "      <td>Classic Femme Mini Wedge Bootie</td>\n",
              "      <td>5324754</td>\n",
              "      <td>Women</td>\n",
              "      <td>Shoes</td>\n",
              "      <td>UGG®</td>\n",
              "      <td>80.00</td>\n",
              "      <td>160.0</td>\n",
              "      <td>4.6</td>\n",
              "      <td>431</td>\n",
              "      <td>50% off</td>\n",
              "      <td>1</td>\n",
              "      <td>2022-03-13 08:11:45</td>\n",
              "    </tr>\n",
              "    <tr>\n",
              "      <th>3</th>\n",
              "      <td>Nizza Platform Sneaker</td>\n",
              "      <td>5507136</td>\n",
              "      <td>Women</td>\n",
              "      <td>Shoes</td>\n",
              "      <td>adidas</td>\n",
              "      <td>48.75</td>\n",
              "      <td>65.0</td>\n",
              "      <td>4.7</td>\n",
              "      <td>1001</td>\n",
              "      <td>NaN</td>\n",
              "      <td>1</td>\n",
              "      <td>2022-03-13 08:11:45</td>\n",
              "    </tr>\n",
              "    <tr>\n",
              "      <th>4</th>\n",
              "      <td>Becker Block Heel Platform Sandal</td>\n",
              "      <td>5527975</td>\n",
              "      <td>Women</td>\n",
              "      <td>Shoes</td>\n",
              "      <td>MICHAEL Michael Kors</td>\n",
              "      <td>108.75</td>\n",
              "      <td>145.0</td>\n",
              "      <td>4.5</td>\n",
              "      <td>19</td>\n",
              "      <td>NaN</td>\n",
              "      <td>1</td>\n",
              "      <td>2022-03-13 08:11:45</td>\n",
              "    </tr>\n",
              "  </tbody>\n",
              "</table>\n",
              "</div>\n",
              "      <button class=\"colab-df-convert\" onclick=\"convertToInteractive('df-12fa85c2-7f5b-4a72-ab5a-4766e3174693')\"\n",
              "              title=\"Convert this dataframe to an interactive table.\"\n",
              "              style=\"display:none;\">\n",
              "        \n",
              "  <svg xmlns=\"http://www.w3.org/2000/svg\" height=\"24px\"viewBox=\"0 0 24 24\"\n",
              "       width=\"24px\">\n",
              "    <path d=\"M0 0h24v24H0V0z\" fill=\"none\"/>\n",
              "    <path d=\"M18.56 5.44l.94 2.06.94-2.06 2.06-.94-2.06-.94-.94-2.06-.94 2.06-2.06.94zm-11 1L8.5 8.5l.94-2.06 2.06-.94-2.06-.94L8.5 2.5l-.94 2.06-2.06.94zm10 10l.94 2.06.94-2.06 2.06-.94-2.06-.94-.94-2.06-.94 2.06-2.06.94z\"/><path d=\"M17.41 7.96l-1.37-1.37c-.4-.4-.92-.59-1.43-.59-.52 0-1.04.2-1.43.59L10.3 9.45l-7.72 7.72c-.78.78-.78 2.05 0 2.83L4 21.41c.39.39.9.59 1.41.59.51 0 1.02-.2 1.41-.59l7.78-7.78 2.81-2.81c.8-.78.8-2.07 0-2.86zM5.41 20L4 18.59l7.72-7.72 1.47 1.35L5.41 20z\"/>\n",
              "  </svg>\n",
              "      </button>\n",
              "      \n",
              "  <style>\n",
              "    .colab-df-container {\n",
              "      display:flex;\n",
              "      flex-wrap:wrap;\n",
              "      gap: 12px;\n",
              "    }\n",
              "\n",
              "    .colab-df-convert {\n",
              "      background-color: #E8F0FE;\n",
              "      border: none;\n",
              "      border-radius: 50%;\n",
              "      cursor: pointer;\n",
              "      display: none;\n",
              "      fill: #1967D2;\n",
              "      height: 32px;\n",
              "      padding: 0 0 0 0;\n",
              "      width: 32px;\n",
              "    }\n",
              "\n",
              "    .colab-df-convert:hover {\n",
              "      background-color: #E2EBFA;\n",
              "      box-shadow: 0px 1px 2px rgba(60, 64, 67, 0.3), 0px 1px 3px 1px rgba(60, 64, 67, 0.15);\n",
              "      fill: #174EA6;\n",
              "    }\n",
              "\n",
              "    [theme=dark] .colab-df-convert {\n",
              "      background-color: #3B4455;\n",
              "      fill: #D2E3FC;\n",
              "    }\n",
              "\n",
              "    [theme=dark] .colab-df-convert:hover {\n",
              "      background-color: #434B5C;\n",
              "      box-shadow: 0px 1px 3px 1px rgba(0, 0, 0, 0.15);\n",
              "      filter: drop-shadow(0px 1px 2px rgba(0, 0, 0, 0.3));\n",
              "      fill: #FFFFFF;\n",
              "    }\n",
              "  </style>\n",
              "\n",
              "      <script>\n",
              "        const buttonEl =\n",
              "          document.querySelector('#df-12fa85c2-7f5b-4a72-ab5a-4766e3174693 button.colab-df-convert');\n",
              "        buttonEl.style.display =\n",
              "          google.colab.kernel.accessAllowed ? 'block' : 'none';\n",
              "\n",
              "        async function convertToInteractive(key) {\n",
              "          const element = document.querySelector('#df-12fa85c2-7f5b-4a72-ab5a-4766e3174693');\n",
              "          const dataTable =\n",
              "            await google.colab.kernel.invokeFunction('convertToInteractive',\n",
              "                                                     [key], {});\n",
              "          if (!dataTable) return;\n",
              "\n",
              "          const docLinkHtml = 'Like what you see? Visit the ' +\n",
              "            '<a target=\"_blank\" href=https://colab.research.google.com/notebooks/data_table.ipynb>data table notebook</a>'\n",
              "            + ' to learn more about interactive tables.';\n",
              "          element.innerHTML = '';\n",
              "          dataTable['output_type'] = 'display_data';\n",
              "          await google.colab.output.renderOutput(dataTable, element);\n",
              "          const docLink = document.createElement('div');\n",
              "          docLink.innerHTML = docLinkHtml;\n",
              "          element.appendChild(docLink);\n",
              "        }\n",
              "      </script>\n",
              "    </div>\n",
              "  </div>\n",
              "  "
            ]
          },
          "metadata": {},
          "execution_count": 14
        }
      ]
    },
    {
      "cell_type": "code",
      "source": [
        "sns.scatterplot(data=data, x='PRICE_RETAIL', y='BRAND',hue='REVIEW_COUNT') # this is to see the distribution of items sold and number of review counts"
      ],
      "metadata": {
        "colab": {
          "base_uri": "https://localhost:8080/",
          "height": 298
        },
        "id": "oYDFoUccszbv",
        "outputId": "046dc4de-52ed-48de-832e-abf32d33318e"
      },
      "execution_count": 16,
      "outputs": [
        {
          "output_type": "execute_result",
          "data": {
            "text/plain": [
              "<matplotlib.axes._subplots.AxesSubplot at 0x7f5a85562ad0>"
            ]
          },
          "metadata": {},
          "execution_count": 16
        },
        {
          "output_type": "display_data",
          "data": {
            "text/plain": [
              "<Figure size 432x288 with 1 Axes>"
            ],
            "image/png": "[encoded data removed]"
          },
          "metadata": {
            "needs_background": "light"
          }
        }
      ]
    },
    {
      "cell_type": "code",
      "source": [
        "item_type = data['BRAND'].value_counts() # this is to see the distrubtion among brands with which item sold the most \n",
        "item_type.plot(kind='barh')"
      ],
      "metadata": {
        "colab": {
          "base_uri": "https://localhost:8080/",
          "height": 284
        },
        "id": "d3Aj3ESktXyA",
        "outputId": "de6c7cb4-e40d-43dd-e01f-9f7826a59b6f"
      },
      "execution_count": 18,
      "outputs": [
        {
          "output_type": "execute_result",
          "data": {
            "text/plain": [
              "<matplotlib.axes._subplots.AxesSubplot at 0x7f5a81a22910>"
            ]
          },
          "metadata": {},
          "execution_count": 18
        },
        {
          "output_type": "display_data",
          "data": {
            "text/plain": [
              "<Figure size 432x288 with 1 Axes>"
            ],
            "image/png": "[encoded data removed]"
          },
          "metadata": {
            "needs_background": "light"
          }
        }
      ]
    },
    {
      "cell_type": "code",
      "source": [
        "corr = data.corr() # this is a heatmap to illustrate correlation\n",
        "sns.heatmap(corr, annot=True)"
      ],
      "metadata": {
        "colab": {
          "base_uri": "https://localhost:8080/",
          "height": 359
        },
        "id": "kOQbzzA2trZs",
        "outputId": "5de716fe-04a3-40c8-8d95-c972d37c5aa5"
      },
      "execution_count": 19,
      "outputs": [
        {
          "output_type": "execute_result",
          "data": {
            "text/plain": [
              "<matplotlib.axes._subplots.AxesSubplot at 0x7f5a81723710>"
            ]
          },
          "metadata": {},
          "execution_count": 19
        },
        {
          "output_type": "display_data",
          "data": {
            "text/plain": [
              "<Figure size 432x288 with 2 Axes>"
            ],
            "image/png": "[encoded data removed]"
          },
          "metadata": {
            "needs_background": "light"
          }
        }
      ]
    }
  ]
}